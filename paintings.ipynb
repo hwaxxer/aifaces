{
 "cells": [
  {
   "cell_type": "markdown",
   "metadata": {},
   "source": [
    "# Query\n",
    "We search Google for images with this query. Change the query to make the network learn another representation."
   ]
  },
  {
   "cell_type": "code",
   "execution_count": 2,
   "metadata": {
    "collapsed": true
   },
   "outputs": [],
   "source": [
    "query = 'ai+face'"
   ]
  },
  {
   "cell_type": "code",
   "execution_count": 9,
   "metadata": {},
   "outputs": [],
   "source": [
    "import os\n",
    "import sys\n",
    "import numpy as np\n",
    "from utils.image_processing import preprocess_file\n",
    "from train import train\n",
    "from utils import gif"
   ]
  },
  {
   "cell_type": "code",
   "execution_count": 3,
   "metadata": {},
   "outputs": [],
   "source": [
    "filenames = [os.path.join(query, fname) for fname in os.listdir(query)]\n",
    "shape = (100, 100)\n",
    "imgs = [preprocess_file(f, shape) for f in filenames]\n",
    "imgs = np.array(imgs).copy()"
   ]
  },
  {
   "cell_type": "code",
   "execution_count": 12,
   "metadata": {},
   "outputs": [
    {
     "name": "stdout",
     "output_type": "stream",
     "text": [
      "iteration 1/100: cost 1.0442215177814165\n",
      "iteration 2/100: cost 1.0339383588592213\n",
      "iteration 3/100: cost 1.0282877567927042\n",
      "iteration 4/100: cost 1.0218149463852246\n",
      "iteration 5/100: cost 1.0159664409796396\n",
      "iteration 6/100: cost 1.0113265584468842\n",
      "iteration 7/100: cost 1.0073229352871578\n",
      "iteration 8/100: cost 1.003316743195057\n",
      "iteration 9/100: cost 0.9995678686300914\n",
      "iteration 10/100: cost 0.9961091117819151\n",
      "iteration 11/100: cost 0.9926979225794474\n",
      "iteration 12/100: cost 0.9891844933390618\n",
      "iteration 13/100: cost 0.9855590293725331\n",
      "iteration 14/100: cost 0.9820494732062022\n",
      "iteration 15/100: cost 0.9785574371298155\n",
      "iteration 16/100: cost 0.9750872972647349\n",
      "iteration 17/100: cost 0.9714845814506213\n",
      "iteration 18/100: cost 0.9682614177107811\n",
      "iteration 19/100: cost 0.9652034457921982\n",
      "iteration 20/100: cost 0.9622421411116918\n",
      "iteration 21/100: cost 0.9591737647811571\n",
      "iteration 22/100: cost 0.9563392621954282\n",
      "iteration 23/100: cost 0.9535031078656514\n",
      "iteration 24/100: cost 0.9508983313560486\n",
      "iteration 25/100: cost 0.9482370966871579\n",
      "iteration 26/100: cost 0.9457294183452924\n",
      "iteration 27/100: cost 0.9431515786369642\n",
      "iteration 28/100: cost 0.9408294237057367\n",
      "iteration 29/100: cost 0.9384085568785667\n",
      "iteration 30/100: cost 0.9360341514428456\n",
      "iteration 31/100: cost 0.9337128874381383\n",
      "iteration 32/100: cost 0.9313983145594597\n",
      "iteration 33/100: cost 0.9292285656770071\n",
      "iteration 34/100: cost 0.926970846760273\n",
      "iteration 35/100: cost 0.9249305154919625\n",
      "iteration 36/100: cost 0.9228802457054456\n",
      "iteration 37/100: cost 0.9207800144910813\n",
      "iteration 38/100: cost 0.9188916089336078\n",
      "iteration 39/100: cost 0.9170547636826833\n",
      "iteration 40/100: cost 0.9151571693380673\n",
      "iteration 41/100: cost 0.9133955368995667\n",
      "iteration 42/100: cost 0.9114486318906149\n",
      "iteration 43/100: cost 0.9097673121968906\n",
      "iteration 44/100: cost 0.9076696897268295\n",
      "iteration 45/100: cost 0.9056909919222196\n",
      "iteration 46/100: cost 0.9039971916556359\n",
      "iteration 47/100: cost 0.9023884705265363\n",
      "iteration 48/100: cost 0.9003386546373368\n",
      "iteration 49/100: cost 0.8983109321872393\n",
      "iteration 50/100: cost 0.8962144079883894\n",
      "iteration 51/100: cost 0.8941298927863439\n",
      "iteration 52/100: cost 0.8918163197517395\n",
      "iteration 53/100: cost 0.8895613661170005\n",
      "iteration 54/100: cost 0.8867844535271326\n",
      "iteration 55/100: cost 0.8841271657148997\n",
      "iteration 56/100: cost 0.8816588609258333\n",
      "iteration 57/100: cost 0.8791385269999504\n",
      "iteration 58/100: cost 0.8767178353230158\n",
      "iteration 59/100: cost 0.8738730312108993\n",
      "iteration 60/100: cost 0.8712695167541504\n",
      "iteration 61/100: cost 0.8688583165645599\n",
      "iteration 62/100: cost 0.8668675827145577\n",
      "iteration 63/100: cost 0.8646201839764913\n",
      "iteration 64/100: cost 0.8627701352000237\n",
      "iteration 65/100: cost 0.8604964845498403\n",
      "iteration 66/100: cost 0.8584637588580449\n",
      "iteration 67/100: cost 0.8562605328162511\n",
      "iteration 68/100: cost 0.8545546619216601\n",
      "iteration 69/100: cost 0.8526004025856654\n",
      "iteration 70/100: cost 0.8507968792438507\n",
      "iteration 71/100: cost 0.8491361770391465\n",
      "iteration 72/100: cost 0.8475218886653583\n",
      "iteration 73/100: cost 0.8458896070162455\n",
      "iteration 74/100: cost 0.8441470277945201\n",
      "iteration 75/100: cost 0.8424619348486264\n",
      "iteration 76/100: cost 0.8406757514119149\n",
      "iteration 77/100: cost 0.8390215056697528\n",
      "iteration 78/100: cost 0.8375861064751943\n",
      "iteration 79/100: cost 0.8358420263051987\n",
      "iteration 80/100: cost 0.8342144784172376\n",
      "iteration 81/100: cost 0.832419421339035\n",
      "iteration 82/100: cost 0.8309554929415385\n",
      "iteration 83/100: cost 0.8290954742232959\n",
      "iteration 84/100: cost 0.8273667868932089\n",
      "iteration 85/100: cost 0.8258988684097925\n",
      "iteration 86/100: cost 0.8241920858184496\n",
      "iteration 87/100: cost 0.8223024636983871\n",
      "iteration 88/100: cost 0.8210591416676839\n",
      "iteration 89/100: cost 0.8195492534637451\n",
      "iteration 90/100: cost 0.8181357635974884\n",
      "iteration 91/100: cost 0.8163296886046727\n",
      "iteration 92/100: cost 0.8149072905023893\n",
      "iteration 93/100: cost 0.8132618592063586\n",
      "iteration 94/100: cost 0.8115991517106692\n",
      "iteration 95/100: cost 0.8101288797616959\n",
      "iteration 96/100: cost 0.8087255138794581\n",
      "iteration 97/100: cost 0.8069410925825437\n",
      "iteration 98/100: cost 0.8057140304525693\n",
      "iteration 99/100: cost 0.8040686952630679\n",
      "iteration 100/100: cost 0.8025776686469713\n"
     ]
    }
   ],
   "source": [
    "result = train(imgs, n_iterations=100, n_neurons=200, n_layers=3)"
   ]
  },
  {
   "cell_type": "code",
   "execution_count": 17,
   "metadata": {},
   "outputs": [
    {
     "data": {
      "text/plain": [
       "<matplotlib.animation.ArtistAnimation at 0x122dbc6d8>"
      ]
     },
     "execution_count": 17,
     "metadata": {},
     "output_type": "execute_result"
    }
   ],
   "source": [
    "# make sure values are between 0-255\n",
    "result_gif = [np.clip(((m * 127.5) + 127.5), 0, 255).astype(np.uint8) for m in result]\n",
    "gif_name = '{}.gif'.format(query)\n",
    "gif_path = os.path.join('gifs', gif_name)\n",
    "gif.build_gif(result_gif, saveto=gif_name)"
   ]
  },
  {
   "cell_type": "code",
   "execution_count": 18,
   "metadata": {},
   "outputs": [
    {
     "data": {
      "text/html": [
       "<img src=\"gifs/ai+face.gif\" width=\"400\" height=\"400\"/>"
      ],
      "text/plain": [
       "<IPython.core.display.Image object>"
      ]
     },
     "execution_count": 18,
     "metadata": {},
     "output_type": "execute_result"
    }
   ],
   "source": [
    "from IPython.display import Image\n",
    "Image(url=gif_path, height=400, width=400)"
   ]
  },
  {
   "cell_type": "code",
   "execution_count": null,
   "metadata": {
    "collapsed": true
   },
   "outputs": [],
   "source": []
  }
 ],
 "metadata": {
  "kernelspec": {
   "display_name": "Python 3",
   "language": "python",
   "name": "python3"
  },
  "language_info": {
   "codemirror_mode": {
    "name": "ipython",
    "version": 3
   },
   "file_extension": ".py",
   "mimetype": "text/x-python",
   "name": "python",
   "nbconvert_exporter": "python",
   "pygments_lexer": "ipython3",
   "version": "3.6.3"
  }
 },
 "nbformat": 4,
 "nbformat_minor": 2
}

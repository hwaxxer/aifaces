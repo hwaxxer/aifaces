{
 "cells": [
  {
   "cell_type": "markdown",
   "metadata": {},
   "source": [
    "# Query\n",
    "We search Google for images with this query. Change the query to make the network learn another representation."
   ]
  },
  {
   "cell_type": "code",
   "execution_count": 1,
   "metadata": {},
   "outputs": [],
   "source": [
    "query = 'ai+face'"
   ]
  },
  {
   "cell_type": "code",
   "execution_count": 2,
   "metadata": {},
   "outputs": [],
   "source": [
    "import os\n",
    "import sys\n",
    "import numpy as np\n",
    "from utils.image_processing import preprocess_file\n",
    "from train import train\n",
    "from utils import gif\n",
    "from utils.fetch_imgs import GoogleImageSearch"
   ]
  },
  {
   "cell_type": "markdown",
   "metadata": {},
   "source": [
    "# Download images from Google\n",
    "Since there's no Google image search API, this performs a request and is not very robust. It does however attempt to download images that are free to use or share."
   ]
  },
  {
   "cell_type": "code",
   "execution_count": null,
   "metadata": {},
   "outputs": [],
   "source": [
    "# Download the images if there are none for this query\n",
    "if not os.path.exists(query) or \\\n",
    "   100 > len([name for name in os.listdir(query)]):\n",
    "    gis = GoogleImageSearch()\n",
    "    gis.download(query)"
   ]
  },
  {
   "cell_type": "code",
   "execution_count": null,
   "metadata": {},
   "outputs": [],
   "source": [
    "filenames = [os.path.join(query, fname) for fname in os.listdir(query)]\n",
    "shape = (100, 100)\n",
    "imgs = [preprocess_file(f, shape) for f in filenames]\n",
    "imgs = np.array(imgs).copy()"
   ]
  },
  {
   "cell_type": "code",
   "execution_count": null,
   "metadata": {},
   "outputs": [],
   "source": [
    "result = train(imgs, n_iterations=100, n_neurons=512, n_layers=4)"
   ]
  },
  {
   "cell_type": "code",
   "execution_count": 3,
   "metadata": {},
   "outputs": [],
   "source": [
    "# make sure values are between 0-255\n",
    "result_gif = [np.clip(((m * 127.5) + 127.5), 0, 255).astype(np.uint8) for m in result]\n",
    "gif_path = os.path.join('gifs', '{}.gif'.format(query))\n",
    "gif.build_gif(result_gif, saveto=gif_path)"
   ]
  },
  {
   "cell_type": "code",
   "execution_count": 4,
   "metadata": {},
   "outputs": [
    {
     "data": {
      "text/html": [
       "<img src=\"gifs/ai+face.gif\" width=\"400\" height=\"400\"/>"
      ],
      "text/plain": [
       "<IPython.core.display.Image object>"
      ]
     },
     "execution_count": 4,
     "metadata": {},
     "output_type": "execute_result"
    }
   ],
   "source": [
    "from IPython.display import Image\n",
    "Image(url=gif_path, height=400, width=400)"
   ]
  },
  {
   "cell_type": "code",
   "execution_count": null,
   "metadata": {},
   "outputs": [],
   "source": []
  }
 ],
 "metadata": {
  "kernelspec": {
   "display_name": "Python 3",
   "language": "python",
   "name": "python3"
  },
  "language_info": {
   "codemirror_mode": {
    "name": "ipython",
    "version": 3
   },
   "file_extension": ".py",
   "mimetype": "text/x-python",
   "name": "python",
   "nbconvert_exporter": "python",
   "pygments_lexer": "ipython3",
   "version": "3.6.3"
  }
 },
 "nbformat": 4,
 "nbformat_minor": 2
}
